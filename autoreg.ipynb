{
  "nbformat": 4,
  "nbformat_minor": 0,
  "metadata": {
    "colab": {
      "name": "autoreg",
      "provenance": [],
      "collapsed_sections": [],
      "authorship_tag": "ABX9TyN74Nm0/BYanUvpQBhqpQho",
      "include_colab_link": true
    },
    "kernelspec": {
      "name": "python3",
      "display_name": "Python 3"
    }
  },
  "cells": [
    {
      "cell_type": "markdown",
      "metadata": {
        "id": "view-in-github",
        "colab_type": "text"
      },
      "source": [
        "<a href=\"https://colab.research.google.com/github/GeorgeFinlay/PublicScripts/blob/master/autoreg.ipynb\" target=\"_parent\"><img src=\"https://colab.research.google.com/assets/colab-badge.svg\" alt=\"Open In Colab\"/></a>"
      ]
    },
    {
      "cell_type": "code",
      "metadata": {
        "colab": {
          "base_uri": "https://localhost:8080/"
        },
        "id": "_BsFPErX5jUL",
        "outputId": "8cc0805b-8046-43ae-c984-2d0c5da19686"
      },
      "source": [
        "import pandas as pd\n",
        "import statsmodels.api as sm\n",
        "import plotly.express as px\n",
        "import re\n",
        "\n",
        "#Reading in Data Function\n",
        "\n",
        "def ingest(file_name):\n",
        "    filename = re.compile(r'https://')\n",
        "    mo = filename.search()\n",
        "    if file_name.endswith('.csv'):\n",
        "        df = pd.read_csv(file_name)\n",
        "    elif file_name.endswith('.xls') or file_name.endswith('.xlx'):\n",
        "        df = pd.read_excel(file_name)\n",
        "    elif mo.group() is not None:\n",
        "        df = pd.read_html(file_name)\n",
        "    else:\n",
        "        return \"File not in correct format\"\n",
        "    return df\n",
        "\n",
        "#Statsmodels Automation Script Starts here\n",
        "\n",
        "def lineareg(independent, dependent, constant):\n",
        "    if constant == True:\n",
        "        independent = sm.add_constant(independent)\n",
        "    model = sm.OLS(dependent, independent, missing='drop').fit()\n",
        "    return model.summary()\n",
        "\n",
        "\n",
        "def regplot(df, independent, dependent):\n",
        "    fig = px.scatter(data_frame=df,\n",
        "                     x=independent,\n",
        "                     y=dependent,\n",
        "                     trendline='ols')\n",
        "    return fig.show()\n",
        "\n",
        "\n",
        "def regandplot(df, independent, dependent, constant, plot):\n",
        "    x = 0\n",
        "    counter = pd.DataFrame(independent)\n",
        "    for i in counter.columns:\n",
        "        x = x + 1\n",
        "    if x >= 2 and plot == True:\n",
        "        return \"Specification Error: Can't plot 2 or more independent variables!\", \\\n",
        "               lineareg(independent, dependent, constant)\n",
        "    elif x >= 2 and plot == False:\n",
        "        return lineareg(independent, dependent, constant)\n",
        "    else:\n",
        "        return lineareg(independent, dependent, constant), \\\n",
        "               regplot(df, independent, dependent)\n",
        "\n",
        "\n",
        "from pydrive.auth import GoogleAuth\n",
        "from pydrive.drive import GoogleDrive\n",
        "from google.colab import auth\n",
        "from oauth2client.client import GoogleCredentials\n",
        "\n",
        "auth.authenticate_user()\n",
        "gauth = GoogleAuth()\n",
        "gauth.credentials = GoogleCredentials.get_application_default()\n",
        "drive = GoogleDrive(gauth)\n",
        "\n",
        "\n",
        "autoreg = drive.CreateFile({'id':'10c8Z7FB6SCA1JxDhriWShF47Jt_BHRfT'})\n",
        "autoreg.GetContentFile('autoreg')\n",
        "from google.colab import drive\n",
        "drive.mount('/content/drive')"
      ],
      "execution_count": 6,
      "outputs": [
        {
          "output_type": "stream",
          "text": [
            "Drive already mounted at /content/drive; to attempt to forcibly remount, call drive.mount(\"/content/drive\", force_remount=True).\n"
          ],
          "name": "stdout"
        }
      ]
    }
  ]
}