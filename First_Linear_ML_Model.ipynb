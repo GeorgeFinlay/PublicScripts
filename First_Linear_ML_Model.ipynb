{
  "nbformat": 4,
  "nbformat_minor": 0,
  "metadata": {
    "colab": {
      "name": "First Linear ML Model",
      "provenance": [],
      "collapsed_sections": [],
      "authorship_tag": "ABX9TyMSr/qo8HSg6otOnXykQdyA",
      "include_colab_link": true
    },
    "kernelspec": {
      "name": "python3",
      "display_name": "Python 3"
    }
  },
  "cells": [
    {
      "cell_type": "markdown",
      "metadata": {
        "id": "view-in-github",
        "colab_type": "text"
      },
      "source": [
        "<a href=\"https://colab.research.google.com/github/GeorgeFinlay/PublicScripts/blob/master/First_Linear_ML_Model.ipynb\" target=\"_parent\"><img src=\"https://colab.research.google.com/assets/colab-badge.svg\" alt=\"Open In Colab\"/></a>"
      ]
    },
    {
      "cell_type": "code",
      "metadata": {
        "id": "RQ7sCKYsHRRE",
        "colab_type": "code",
        "colab": {}
      },
      "source": [
        "#imports\n",
        "!pip install tensorflow\n",
        "import tensorflow as tf\n",
        "import pandas as pd\n",
        "import numpy as np\n",
        "import seaborn as sns\n",
        "import matplotlib.pyplot as plt\n",
        "import sklearn\n",
        "from sklearn import linear_model\n",
        "from sklearn.utils import shuffle\n",
        "from sklearn import model_selection\n",
        "from sklearn.linear_model import LinearRegression\n",
        "from scipy import stats\n",
        "import statsmodels.api as sm\n",
        "from matplotlib import pyplot as plt\n",
        "import seaborn as sb\n",
        "import math"
      ],
      "execution_count": null,
      "outputs": []
    },
    {
      "cell_type": "code",
      "metadata": {
        "id": "VoGJi_uGHlOd",
        "colab_type": "code",
        "colab": {}
      },
      "source": [
        "#Read data and print out\n",
        "data = pd.read_csv(\"insert csv data\")\n",
        "data"
      ],
      "execution_count": null,
      "outputs": []
    },
    {
      "cell_type": "code",
      "metadata": {
        "id": "waQM3peiYrav",
        "colab_type": "code",
        "colab": {}
      },
      "source": [
        "#Columns of data analysis\n",
        "print(data.columns)"
      ],
      "execution_count": null,
      "outputs": []
    },
    {
      "cell_type": "code",
      "metadata": {
        "id": "IQ0FMzlZJvQ7",
        "colab_type": "code",
        "colab": {}
      },
      "source": [
        "#Assign variables of interest\n",
        "data = data[[#colnames]]\n",
        "#Drop missing values\n",
        "data = data.dropna()\n",
        "#assign predict value\n",
        "predict = \"dependent\"\n",
        "\n",
        "x = np.array(data.drop([predict], 1))\n",
        "y = np.array(data[predict])\n",
        "\n",
        "#assign train and testing \n",
        "x_train, x_test, y_train, y_test = sklearn.model_selection.train_test_split(x, y, test_size = 0.1)\n",
        "\n",
        "#create linear regressino\n",
        "linear = linear_model.LinearRegression()\n",
        "\n",
        "linear.fit(x_train, y_train)\n",
        "\n",
        "#print accuracy of model\n",
        "acc = linear.score(x_test, y_test)\n",
        "print(acc)"
      ],
      "execution_count": null,
      "outputs": []
    },
    {
      "cell_type": "code",
      "metadata": {
        "id": "NGfSy_uKKn-v",
        "colab_type": "code",
        "colab": {}
      },
      "source": [
        "#Print out predictions\n",
        "predictions = linear.predict(x_test)\n",
        "\n",
        "for x in range(len(predictions)):\n",
        "  print('Predictions: ', predictions[x], ', Actual: ',y_test[x])"
      ],
      "execution_count": null,
      "outputs": []
    },
    {
      "cell_type": "code",
      "metadata": {
        "id": "E6FllOsJPBAC",
        "colab_type": "code",
        "colab": {}
      },
      "source": [
        "#Write training model as a linear regression\n",
        "LinReg = LinearRegression(normalize= True)\n",
        "LinReg.fit(x_train, y_train)\n",
        "X2 = sm.add_constant(x_train)\n",
        "est = sm.OLS(y_train, X2)\n",
        "est = est.fit()\n",
        "print(est.summary())\n",
        "sb.regplot(data[#variable], np.log(data[#variable]), order=2)"
      ],
      "execution_count": null,
      "outputs": []
    }
  ]
}