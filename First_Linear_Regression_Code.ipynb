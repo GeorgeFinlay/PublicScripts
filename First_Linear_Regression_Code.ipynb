{
  "nbformat": 4,
  "nbformat_minor": 0,
  "metadata": {
    "colab": {
      "name": "First Linear Regression Code",
      "provenance": [],
      "collapsed_sections": [],
      "authorship_tag": "ABX9TyPkyNyYPK5yqL9IX0fv/mOJ",
      "include_colab_link": true
    },
    "kernelspec": {
      "name": "python3",
      "display_name": "Python 3"
    }
  },
  "cells": [
    {
      "cell_type": "markdown",
      "metadata": {
        "id": "view-in-github",
        "colab_type": "text"
      },
      "source": [
        "<a href=\"https://colab.research.google.com/github/GeorgeFinlay/PublicScripts/blob/master/First_Linear_Regression_Code.ipynb\" target=\"_parent\"><img src=\"https://colab.research.google.com/assets/colab-badge.svg\" alt=\"Open In Colab\"/></a>"
      ]
    },
    {
      "cell_type": "code",
      "metadata": {
        "id": "WkWdSGwskcEr",
        "colab_type": "code",
        "colab": {}
      },
      "source": [
        "#Import Commands\n",
        "import math\n",
        "import numpy as np\n",
        "import pandas as pd\n",
        "import keras\n",
        "from sklearn.linear_model import LinearRegression\n",
        "from pylab import rcParams\n",
        "import seaborn as sb\n",
        "import matplotlib.pyplot \n",
        "from sklearn.preprocessing import scale\n",
        "from collections import Counter\n",
        "from scipy import stats\n",
        "import statsmodels.api as sm\n",
        "from matplotlib import pyplot as plt"
      ],
      "execution_count": null,
      "outputs": []
    },
    {
      "cell_type": "code",
      "metadata": {
        "id": "VEY39uaFlmfq",
        "colab_type": "code",
        "colab": {}
      },
      "source": [
        "#Upload Data Files, Remember to Use Session Storage! \n",
        "pd.read_csv(\"\")\n",
        "data = pd.read_csv(\"\")\n",
        "print(data.columns)\n",
        "#Dropping NA's\n",
        "data_amend = data.dropna(axis=0, how='any', thresh=None, subset=None, inplace=False)"
      ],
      "execution_count": null,
      "outputs": []
    },
    {
      "cell_type": "code",
      "metadata": {
        "id": "0KqdXFdZSiUU",
        "colab_type": "code",
        "colab": {}
      },
      "source": [
        "#Removing values that aren't of interest for visualisation\n",
        "data_abridged = data[[#Column Names]]"
      ],
      "execution_count": null,
      "outputs": []
    },
    {
      "cell_type": "code",
      "metadata": {
        "id": "GW8zC4h4iJbM",
        "colab_type": "code",
        "colab": {}
      },
      "source": [
        "#Full data printout\n",
        "data"
      ],
      "execution_count": null,
      "outputs": []
    },
    {
      "cell_type": "code",
      "metadata": {
        "id": "x_jYqgbz2OEO",
        "colab_type": "code",
        "colab": {}
      },
      "source": [
        "#Assigning variables of interest for regression\n",
        "lmdata = data_amend[[#Column names]]"
      ],
      "execution_count": null,
      "outputs": []
    },
    {
      "cell_type": "code",
      "metadata": {
        "id": "OccdKv2g3fLu",
        "colab_type": "code",
        "colab": {}
      },
      "source": [
        "#Regression data printout\n",
        "lmdata"
      ],
      "execution_count": null,
      "outputs": []
    },
    {
      "cell_type": "code",
      "metadata": {
        "id": "_BBghWuWV98G",
        "colab_type": "code",
        "colab": {}
      },
      "source": [
        "#Simple Pairplots\n",
        "sb.pairplot(data_abridged, kind='reg')"
      ],
      "execution_count": null,
      "outputs": []
    },
    {
      "cell_type": "code",
      "metadata": {
        "id": "45a6-ymK4YwD",
        "colab_type": "code",
        "colab": {}
      },
      "source": [
        "#Correlation Matrix\n",
        "lmdata.corr()"
      ],
      "execution_count": null,
      "outputs": []
    },
    {
      "cell_type": "code",
      "metadata": {
        "id": "Sa1zOYlw4deB",
        "colab_type": "code",
        "colab": {}
      },
      "source": [
        "#Picking dependent and independent variables\n",
        "lmpredict = lmdata[[#independentvariables]]\n",
        "lm_target = lmdata[#dependentvariable]\n",
        "#Logging Variable (if suitable)\n",
        "#lm_target = np.log(lm_target) \n",
        "x, y = scale(lmpredict), lm_target"
      ],
      "execution_count": null,
      "outputs": []
    },
    {
      "cell_type": "code",
      "metadata": {
        "id": "2Y0zm-Xh60DB",
        "colab_type": "code",
        "colab": {}
      },
      "source": [
        "#Fitting Regression and Getting results\n",
        "LinReg = LinearRegression(normalize= True)\n",
        "LinReg.fit(x, y)\n",
        "X2 = sm.add_constant(x)\n",
        "est = sm.OLS(y, X2)\n",
        "est = est.fit()\n",
        "print(est.summary())\n"
      ],
      "execution_count": null,
      "outputs": []
    },
    {
      "cell_type": "code",
      "metadata": {
        "id": "yejhDNT86dcc",
        "colab_type": "code",
        "colab": {}
      },
      "source": [
        "#plot\n",
        "sb.regplot(x=lmpredict, y=lm_target, order=1, color='black')\n",
        "plt.title('insert title')\n",
        "plt.xlabel('insert x axis')\n",
        "plt.ylabel('insert y axis')"
      ],
      "execution_count": null,
      "outputs": []
    }
  ]
}
